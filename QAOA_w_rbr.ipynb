{
 "cells": [
  {
   "cell_type": "code",
   "execution_count": null,
   "id": "2f3a19f8",
   "metadata": {
    "id": "302df55a"
   },
   "outputs": [],
   "source": [
    "import numpy as np\n",
    "import igraph\n",
    "from itertools import combinations\n",
    "import math\n",
    "import matplotlib.pyplot as plt\n",
    "\n",
    "from pulser import Pulse, Sequence, Register\n",
    "from pulser_simulation import Simulation\n",
    "from pulser.devices import Chadoq2\n",
    "\n",
    "from scipy.optimize import minimize\n",
    "\n",
    "import numpy as np\n",
    "import csv\n",
    "import itertools\n",
    "import pandas as pd\n",
    "from itertools import combinations,combinations_with_replacement,permutations,product\n",
    "from datetime import datetime\n",
    "import matplotlib.pyplot as plt\n",
    "from numpy import argmax\n",
    "import os\n",
    "from mpl_toolkits import mplot3d\n",
    "from matplotlib import cm\n",
    "\n",
    "\n",
    "from sklearn.model_selection import train_test_split\n",
    "from sklearn import preprocessing\n",
    "from sklearn.svm import SVC\n",
    "from sklearn.cluster import SpectralClustering\n",
    "from sklearn.metrics import normalized_mutual_info_score\n",
    "from sklearn.metrics import f1_score\n",
    "from sklearn.metrics import log_loss\n",
    "from sklearn.metrics import precision_score\n",
    "from sklearn.metrics import recall_score\n",
    "from sklearn.gaussian_process import GaussianProcessRegressor\n",
    "from sklearn.gaussian_process.kernels import RBF,WhiteKernel,RationalQuadratic,DotProduct,Matern\n",
    "from sklearn.metrics import r2_score\n",
    "\n",
    "from scipy.optimize import minimize\n",
    "from scipy.stats import norm\n",
    "\n",
    "\n",
    "from bayes_opt import UtilityFunction\n",
    "from skopt.learning import ExtraTreesRegressor\n",
    "from skopt import Optimizer\n",
    "from skopt import gp_minimize\n",
    "from skopt.plots import plot_convergence,plot_gaussian_process\n",
    "from bayes_opt import BayesianOptimization"
   ]
  },
  {
   "cell_type": "code",
   "execution_count": null,
   "id": "dca87ac4",
   "metadata": {
    "id": "1ea5ff2b"
   },
   "outputs": [],
   "source": [
    "def pos_to_graph(pos):\n",
    "    rb = Chadoq2.rydberg_blockade_radius(1.0)\n",
    "    g = igraph.Graph()\n",
    "    N = len(pos)\n",
    "    edges = [\n",
    "        [m, n]\n",
    "        for m, n in combinations(range(N), r=2)\n",
    "        if np.linalg.norm(pos[m] - pos[n]) < rb\n",
    "    ]\n",
    "    g.add_vertices(N)\n",
    "    g.add_edges(edges)\n",
    "    return g\n",
    "\n",
    "def rabi_radius(omega, delta):\n",
    "    return math.sqrt(omega**2+delta**2)\n",
    "    \n",
    "    \n",
    "def quantum_loop(parameters):\n",
    "    params = np.array(parameters)\n",
    "    #print (\"params:\",params)\n",
    "    t_params, s_params = np.reshape(params.astype(int), (2, LAYERS))\n",
    "    assigned_seq = seq.build(t_list=t_params, s_list=s_params)\n",
    "    simul = Simulation(assigned_seq, sampling_rate=0.01)\n",
    "    results = simul.run()\n",
    "    count_dict = results.sample_final_state()  # sample from the state vector\n",
    "    return count_dict\n",
    "def plot_distribution(C):\n",
    "    C = dict(sorted(C.items(), key=lambda item: item[1], reverse=True))\n",
    "    indexes = [\"001111\"]#[\"101100\", \"010011\"]#[\"01011\", \"00111\"] #  # MIS indexes\n",
    "    color_dict = {key: \"r\" if key in indexes else \"g\" for key in C}\n",
    "    plt.figure(figsize=(12, 6))\n",
    "    plt.xlabel(\"bitstrings\")\n",
    "    plt.ylabel(\"counts\")\n",
    "    plt.bar(C.keys(), C.values(), width=0.5, color=color_dict.values())\n",
    "    plt.xticks(rotation=\"vertical\")\n",
    "    plt.show()\n",
    "def get_cost_colouring(bitstring, G, penalty=10):\n",
    "    z = np.array(list(bitstring), dtype=int)\n",
    "    A = np.array(G.get_adjacency().data)\n",
    "    # Add penalty and bias:\n",
    "    cost = penalty * (z.T @ np.triu(A) @ z) - np.sum(z)\n",
    "    return cost\n",
    "\n",
    "\n",
    "def get_cost(counter, G,penalty_val):\n",
    "    cost = sum(counter[key] * get_cost_colouring(key, G, penalty = penalty_val) for key in counter)\n",
    "    return cost / sum(counter.values())\n",
    "\n",
    "def get_w_cost_colouring(bitstring, G, penalty=15):\n",
    "    z = np.array(list(bitstring), dtype=int)\n",
    "    A = np.array(G.get_adjacency().data)\n",
    "    D= np.array(G.degree())\n",
    "    #print (\"degree\",D)\n",
    "    # Add penalty and bias:\n",
    "    cost = penalty * (z.T @ np.triu(A) @ z) -z@D# np.sum(z)\n",
    "    #print (z@D)\n",
    "    #print (cost)\n",
    "    return cost\n",
    "\n",
    "\n",
    "def get_w_cost(counter, G, penalty_val):\n",
    "    cost = sum(counter[key] * get_w_cost_colouring(key, G) for key in counter)\n",
    "    return cost / sum(counter.values())  # Divide by total samples\n",
    "\n",
    "\n",
    "def func(param, *args):\n",
    "    G = args[0]\n",
    "    penalty_val = args[1]\n",
    "    cost_fun_type = args[2]\n",
    "    C = quantum_loop(param)\n",
    "    if cost_fun_type ==\"w\":\n",
    "        cost = get_w_cost(C, G ,penalty_val)\n",
    "    elif cost_fun_type ==\"nw\":\n",
    "        cost = get_cost(C, G ,penalty_val)\n",
    "    return cost\n",
    "\n",
    "def convert_opt(opt_str):\n",
    "    row = [int(num_i) for num_i in opt_str]\n",
    "    return row\n",
    "\n",
    "def BO_func(param):\n",
    "    C = quantum_loop(param)\n",
    "    if cost_fun_type == \"w\":\n",
    "        cost = get_cost(C, G, penalty_val)\n",
    "    elif cost_fun_type ==\"nw\":\n",
    "        cost = get_w_cost(C, G, penalty_val)\n",
    "    return cost\n",
    "\n",
    "def BO(N,pnum,penalty_val,cost_fun_type):\n",
    "    pbounds=[]\n",
    "    for i in range(pnum):\n",
    "        pbounds.append((8, 10))\n",
    "        pbounds.append((1, 3))\n",
    "    res = gp_minimize(BO_func,pbounds,random_state=1234,acq_func=\"LCB\",n_calls=N,n_random_starts=50,noise=0.1**2)\n",
    "    \"x^*=%.4f, f(x^*)=%.4f\" % (res.x[0], res.fun)\n",
    "    plot = plot_convergence(res)\n",
    "    FIG = plot.get_figure()\n",
    "    FIG.savefig('Convergence_4_pro.png')\n",
    "    return(res.x)"
   ]
  },
  {
   "cell_type": "code",
   "execution_count": null,
   "id": "afb07f72",
   "metadata": {
    "id": "078734bc",
    "outputId": "196112f7-fa70-4261-8be0-f734b56928e9"
   },
   "outputs": [
    {
     "name": "stdout",
     "output_type": "stream",
     "text": [
      "rabi radius 1.4142135623730951\n"
     ]
    },
    {
     "data": {
      "image/png": "[encoded data removed]",
      "text/plain": [
       "<Figure size 288x378 with 1 Axes>"
      ]
     },
     "metadata": {
      "needs_background": "light"
     },
     "output_type": "display_data"
    }
   ],
   "source": [
    "\n",
    "pos =np.array([[0.0, 0.0], \n",
    "               [0.0, -10.0],\n",
    "               [-8, -15], \n",
    "               [8, -15], \n",
    "               [8, 6], \n",
    "               [-8, 6]])\n",
    "#([[0,1],[0,2],[0,3],[1,4],[1,5]])\n",
    "#\n",
    "#pos = np.array([[0.0, 0.0], [-4, -7], [4, -7], [8, 6], [-8, 6]])\n",
    "omega = 1\n",
    "delta = 1\n",
    "rb_r = rabi_radius(omega, delta)\n",
    "print (\"rabi radius\",rb_r)\n",
    "LAYERS = 5\n",
    "#cost function type, w= weighted; nw = not weighted\n",
    "cost_fun_type = \"w\"\n",
    "# maximum number of iteration for optimization\n",
    "opt_maxiter = 100\n",
    "penalty_val = 10\n",
    "G = pos_to_graph(pos)\n",
    "qubits = dict(enumerate(pos))\n",
    "\n",
    "reg = Register(qubits)\n",
    "reg.draw(\n",
    "    blockade_radius=Chadoq2.rydberg_blockade_radius(rb_r),\n",
    "    draw_graph=True,\n",
    "    draw_half_radius=True,\n",
    ")"
   ]
  },
  {
   "cell_type": "code",
   "execution_count": null,
   "id": "140da42d",
   "metadata": {
    "id": "a79443fc",
    "outputId": "d247ecce-dd7b-4778-dba0-e41610d7407a"
   },
   "outputs": [
    {
     "name": "stdout",
     "output_type": "stream",
     "text": [
      "s_list: s_list\n",
      "t: t_list[0]\n",
      "z: s_list[0]\n",
      "t: t_list[1]\n",
      "z: s_list[1]\n",
      "t: t_list[2]\n",
      "z: s_list[2]\n",
      "t: t_list[3]\n",
      "z: s_list[3]\n",
      "t: t_list[4]\n",
      "z: s_list[4]\n"
     ]
    }
   ],
   "source": [
    "# Parametrized sequence\n",
    "seq = Sequence(reg, Chadoq2)\n",
    "seq.declare_channel(\"ch0\", \"rydberg_global\")\n",
    "\n",
    "t_list = seq.declare_variable(\"t_list\", size=LAYERS)\n",
    "s_list = seq.declare_variable(\"s_list\", size=LAYERS)\n",
    "print (\"s_list:\",s_list)\n",
    "if LAYERS == 1:\n",
    "    t_list = [t_list]\n",
    "    s_list = [s_list]\n",
    "\n",
    "for t, s in zip(t_list, s_list):\n",
    "    print (\"t:\",t)\n",
    "    print (\"z:\",s)\n",
    "    pulse_1 = Pulse.ConstantPulse(1000 * t, omega, 0.0, 0)\n",
    "    pulse_2 = Pulse.ConstantPulse(1000 * s, omega, delta, 0)\n",
    "\n",
    "    seq.add(pulse_1, \"ch0\")\n",
    "    seq.add(pulse_2, \"ch0\")\n",
    "\n",
    "seq.measure(\"ground-rydberg\")\n"
   ]
  },
  {
   "cell_type": "code",
   "execution_count": null,
   "id": "01236a46",
   "metadata": {
    "id": "7af4a88e"
   },
   "outputs": [],
   "source": [
    "guess = {\n",
    "    \"t\": np.random.uniform(5, 10, LAYERS),\n",
    "    \"s\": np.random.uniform(1, 5, LAYERS),\n",
    "}"
   ]
  },
  {
   "cell_type": "code",
   "execution_count": null,
   "id": "b9314f9a",
   "metadata": {
    "id": "c630e116",
    "outputId": "37a9affa-e4d8-4c27-cacf-827e69e77e53"
   },
   "outputs": [
    {
     "data": {
      "image/png": "[encoded data removed]",
      "text/plain": [
       "<Figure size 864x432 with 1 Axes>"
      ]
     },
     "metadata": {
      "needs_background": "light"
     },
     "output_type": "display_data"
    }
   ],
   "source": [
    "example_dict = quantum_loop(np.r_[guess[\"t\"], guess[\"s\"]])\n",
    "plot_distribution(example_dict)\n"
   ]
  },
  {
   "cell_type": "code",
   "execution_count": null,
   "id": "05b9cce7",
   "metadata": {
    "id": "94439922",
    "outputId": "099445cd-717f-4d08-9c52-929ba85048f2"
   },
   "outputs": [
    {
     "data": {
      "text/plain": [
       "-2.664"
      ]
     },
     "execution_count": 151,
     "metadata": {},
     "output_type": "execute_result"
    }
   ],
   "source": [
    "get_w_cost(example_dict, G,penalty_val)"
   ]
  },
  {
   "cell_type": "code",
   "execution_count": null,
   "id": "5fceb5d0",
   "metadata": {
    "id": "5b0e33fd"
   },
   "outputs": [],
   "source": [
    "res = minimize(\n",
    "    func,\n",
    "    args=(G, penalty_val,cost_fun_type),\n",
    "    x0=np.r_[guess[\"t\"], guess[\"s\"]],\n",
    "    method=\"Nelder-Mead\",#\"Nelder-Mead\",#\"L-BFGS-B\", #\"Powell\"\n",
    "    tol=1e-5,\n",
    "    options={\"maxiter\": opt_maxiter},\n",
    ")"
   ]
  },
  {
   "cell_type": "code",
   "execution_count": null,
   "id": "bb990655",
   "metadata": {
    "id": "f2ac5403",
    "outputId": "908a1d77-d3d7-4013-99e6-36171f9aa1b1",
    "scrolled": true
   },
   "outputs": [
    {
     "data": {
      "image/png": "[encoded data removed]",
      "text/plain": [
       "<Figure size 864x432 with 1 Axes>"
      ]
     },
     "metadata": {
      "needs_background": "light"
     },
     "output_type": "display_data"
    }
   ],
   "source": [
    "count_dict = quantum_loop(res.x)\n",
    "plot_distribution(count_dict)"
   ]
  },
  {
   "cell_type": "code",
   "execution_count": null,
   "id": "e6d8d4da",
   "metadata": {
    "id": "87e3b787",
    "outputId": "2949d4e9-b69b-4833-f1e3-bd00f337669a"
   },
   "outputs": [
    {
     "name": "stderr",
     "output_type": "stream",
     "text": [
      "/Users/maoyunwen/opt/anaconda3/envs/pasqal_env/lib/python3.7/site-packages/skopt/optimizer/optimizer.py:449: UserWarning: The objective has been evaluated at this point before.\n",
      "  warnings.warn(\"The objective has been evaluated \"\n",
      "/Users/maoyunwen/opt/anaconda3/envs/pasqal_env/lib/python3.7/site-packages/skopt/optimizer/optimizer.py:449: UserWarning: The objective has been evaluated at this point before.\n",
      "  warnings.warn(\"The objective has been evaluated \"\n",
      "/Users/maoyunwen/opt/anaconda3/envs/pasqal_env/lib/python3.7/site-packages/skopt/optimizer/optimizer.py:449: UserWarning: The objective has been evaluated at this point before.\n",
      "  warnings.warn(\"The objective has been evaluated \"\n",
      "/Users/maoyunwen/opt/anaconda3/envs/pasqal_env/lib/python3.7/site-packages/skopt/optimizer/optimizer.py:449: UserWarning: The objective has been evaluated at this point before.\n",
      "  warnings.warn(\"The objective has been evaluated \"\n",
      "/Users/maoyunwen/opt/anaconda3/envs/pasqal_env/lib/python3.7/site-packages/skopt/optimizer/optimizer.py:449: UserWarning: The objective has been evaluated at this point before.\n",
      "  warnings.warn(\"The objective has been evaluated \"\n",
      "/Users/maoyunwen/opt/anaconda3/envs/pasqal_env/lib/python3.7/site-packages/skopt/optimizer/optimizer.py:449: UserWarning: The objective has been evaluated at this point before.\n",
      "  warnings.warn(\"The objective has been evaluated \"\n",
      "/Users/maoyunwen/opt/anaconda3/envs/pasqal_env/lib/python3.7/site-packages/skopt/optimizer/optimizer.py:449: UserWarning: The objective has been evaluated at this point before.\n",
      "  warnings.warn(\"The objective has been evaluated \"\n",
      "/Users/maoyunwen/opt/anaconda3/envs/pasqal_env/lib/python3.7/site-packages/skopt/optimizer/optimizer.py:449: UserWarning: The objective has been evaluated at this point before.\n",
      "  warnings.warn(\"The objective has been evaluated \"\n",
      "/Users/maoyunwen/opt/anaconda3/envs/pasqal_env/lib/python3.7/site-packages/skopt/optimizer/optimizer.py:449: UserWarning: The objective has been evaluated at this point before.\n",
      "  warnings.warn(\"The objective has been evaluated \"\n",
      "/Users/maoyunwen/opt/anaconda3/envs/pasqal_env/lib/python3.7/site-packages/skopt/optimizer/optimizer.py:449: UserWarning: The objective has been evaluated at this point before.\n",
      "  warnings.warn(\"The objective has been evaluated \"\n",
      "/Users/maoyunwen/opt/anaconda3/envs/pasqal_env/lib/python3.7/site-packages/skopt/optimizer/optimizer.py:449: UserWarning: The objective has been evaluated at this point before.\n",
      "  warnings.warn(\"The objective has been evaluated \"\n",
      "/Users/maoyunwen/opt/anaconda3/envs/pasqal_env/lib/python3.7/site-packages/skopt/optimizer/optimizer.py:449: UserWarning: The objective has been evaluated at this point before.\n",
      "  warnings.warn(\"The objective has been evaluated \"\n",
      "/Users/maoyunwen/opt/anaconda3/envs/pasqal_env/lib/python3.7/site-packages/skopt/optimizer/optimizer.py:449: UserWarning: The objective has been evaluated at this point before.\n",
      "  warnings.warn(\"The objective has been evaluated \"\n",
      "/Users/maoyunwen/opt/anaconda3/envs/pasqal_env/lib/python3.7/site-packages/skopt/optimizer/optimizer.py:449: UserWarning: The objective has been evaluated at this point before.\n",
      "  warnings.warn(\"The objective has been evaluated \"\n",
      "/Users/maoyunwen/opt/anaconda3/envs/pasqal_env/lib/python3.7/site-packages/skopt/optimizer/optimizer.py:449: UserWarning: The objective has been evaluated at this point before.\n",
      "  warnings.warn(\"The objective has been evaluated \"\n",
      "/Users/maoyunwen/opt/anaconda3/envs/pasqal_env/lib/python3.7/site-packages/skopt/optimizer/optimizer.py:449: UserWarning: The objective has been evaluated at this point before.\n",
      "  warnings.warn(\"The objective has been evaluated \"\n",
      "/Users/maoyunwen/opt/anaconda3/envs/pasqal_env/lib/python3.7/site-packages/skopt/optimizer/optimizer.py:449: UserWarning: The objective has been evaluated at this point before.\n",
      "  warnings.warn(\"The objective has been evaluated \"\n",
      "/Users/maoyunwen/opt/anaconda3/envs/pasqal_env/lib/python3.7/site-packages/skopt/optimizer/optimizer.py:449: UserWarning: The objective has been evaluated at this point before.\n",
      "  warnings.warn(\"The objective has been evaluated \"\n",
      "/Users/maoyunwen/opt/anaconda3/envs/pasqal_env/lib/python3.7/site-packages/skopt/optimizer/optimizer.py:449: UserWarning: The objective has been evaluated at this point before.\n",
      "  warnings.warn(\"The objective has been evaluated \"\n",
      "/Users/maoyunwen/opt/anaconda3/envs/pasqal_env/lib/python3.7/site-packages/skopt/optimizer/optimizer.py:449: UserWarning: The objective has been evaluated at this point before.\n",
      "  warnings.warn(\"The objective has been evaluated \"\n",
      "/Users/maoyunwen/opt/anaconda3/envs/pasqal_env/lib/python3.7/site-packages/skopt/optimizer/optimizer.py:449: UserWarning: The objective has been evaluated at this point before.\n",
      "  warnings.warn(\"The objective has been evaluated \"\n",
      "/Users/maoyunwen/opt/anaconda3/envs/pasqal_env/lib/python3.7/site-packages/skopt/optimizer/optimizer.py:449: UserWarning: The objective has been evaluated at this point before.\n",
      "  warnings.warn(\"The objective has been evaluated \"\n",
      "/Users/maoyunwen/opt/anaconda3/envs/pasqal_env/lib/python3.7/site-packages/skopt/optimizer/optimizer.py:449: UserWarning: The objective has been evaluated at this point before.\n",
      "  warnings.warn(\"The objective has been evaluated \"\n",
      "/Users/maoyunwen/opt/anaconda3/envs/pasqal_env/lib/python3.7/site-packages/skopt/optimizer/optimizer.py:449: UserWarning: The objective has been evaluated at this point before.\n",
      "  warnings.warn(\"The objective has been evaluated \"\n",
      "/Users/maoyunwen/opt/anaconda3/envs/pasqal_env/lib/python3.7/site-packages/skopt/optimizer/optimizer.py:449: UserWarning: The objective has been evaluated at this point before.\n",
      "  warnings.warn(\"The objective has been evaluated \"\n",
      "/Users/maoyunwen/opt/anaconda3/envs/pasqal_env/lib/python3.7/site-packages/skopt/optimizer/optimizer.py:449: UserWarning: The objective has been evaluated at this point before.\n",
      "  warnings.warn(\"The objective has been evaluated \"\n",
      "/Users/maoyunwen/opt/anaconda3/envs/pasqal_env/lib/python3.7/site-packages/skopt/optimizer/optimizer.py:449: UserWarning: The objective has been evaluated at this point before.\n",
      "  warnings.warn(\"The objective has been evaluated \"\n",
      "/Users/maoyunwen/opt/anaconda3/envs/pasqal_env/lib/python3.7/site-packages/skopt/optimizer/optimizer.py:449: UserWarning: The objective has been evaluated at this point before.\n",
      "  warnings.warn(\"The objective has been evaluated \"\n",
      "/Users/maoyunwen/opt/anaconda3/envs/pasqal_env/lib/python3.7/site-packages/skopt/optimizer/optimizer.py:449: UserWarning: The objective has been evaluated at this point before.\n",
      "  warnings.warn(\"The objective has been evaluated \"\n",
      "/Users/maoyunwen/opt/anaconda3/envs/pasqal_env/lib/python3.7/site-packages/skopt/optimizer/optimizer.py:449: UserWarning: The objective has been evaluated at this point before.\n",
      "  warnings.warn(\"The objective has been evaluated \"\n"
     ]
    },
    {
     "data": {
      "image/png": "[encoded data removed]",
      "text/plain": [
       "<Figure size 432x288 with 1 Axes>"
      ]
     },
     "metadata": {
      "needs_background": "light"
     },
     "output_type": "display_data"
    }
   ],
   "source": [
    "bo_res = BO(opt_maxiter,LAYERS,penalty_val,cost_fun_type)"
   ]
  },
  {
   "cell_type": "code",
   "execution_count": null,
   "id": "96396d6e",
   "metadata": {
    "id": "197a29a1",
    "outputId": "c6a2af29-ad84-415f-c243-b45267a3e783"
   },
   "outputs": [
    {
     "data": {
      "image/png": "[encoded data removed]",
      "text/plain": [
       "<Figure size 864x432 with 1 Axes>"
      ]
     },
     "metadata": {
      "needs_background": "light"
     },
     "output_type": "display_data"
    }
   ],
   "source": [
    "count_dict = quantum_loop(bo_res)\n",
    "plot_distribution(count_dict)"
   ]
  },
  {
   "cell_type": "markdown",
   "id": "48252d29",
   "metadata": {
    "id": "5TMnyVnHX_cY"
   },
   "source": [
    "## How does Bayesian optimization work?\n",
    "\n",
    "Bayesian optimization works by constructing a **posterior distribution of functions (gaussian process)** that best describes the function you want to optimize. As the number of observations grows, the posterior distribution improves, and the algorithm becomes more certain of which **regions in parameter space** are worth exploring and which are not, as seen in the picture below.\n",
    "\n",
    "<img src=\"https://github.com/dmao1020/bigqhack_QAI_2022/blob/main/PNG%20image.png?raw=1\"\n",
    "     alt=\"Markdown Monster icon\"\n",
    "     style=\"float: left; margin-right: 10px\"/>\n",
    "\n",
    "As you iterate over and over, the algorithm balances its needs of **exploration** and **exploitation** taking into account what it knows about the target function. At each step a Gaussian Process is fitted to the known samples (points previously explored), and the posterior distribution, combined with a **exploration strategy** (such as UCB (Upper Confidence Bound), or EI (Expected Improvement)), are used to determine the next point that should be explored. \n",
    "\n",
    "This process is designed **to minimize the number of steps** required to find a combination of parameters that are close to the optimal combination. To do so, this method uses a **proxy optimization problem** (finding the maximum of the acquisition function) that, albeit still a hard problem, is cheaper (in the computational sense) and common tools can be employed. Therefore Bayesian Optimization is most adequate for situations where sampling the function to be optimized is a very expensive endeavor. See the references for a proper discussion of this method [1].\n",
    "\n",
    "**Reference**\n",
    "\n",
    "[1]   Snoek, J., Larochelle, H. and Adams, R.P., 2012. Practical bayesian optimization of machine learning algorithms. Advances in neural information processing systems, 25.\n"
   ]
  },
  {
   "cell_type": "code",
   "execution_count": null,
   "id": "002ceb92",
   "metadata": {
    "id": "625ae558"
   },
   "outputs": [],
   "source": []
  }
 ],
 "metadata": {
  "colab": {
   "name": "QAOA_w_rbr.ipynb",
   "provenance": []
  },
  "kernelspec": {
   "display_name": "Python 3",
   "language": "python",
   "name": "python3"
  },
  "language_info": {
   "codemirror_mode": {
    "name": "ipython",
    "version": 3
   },
   "file_extension": ".py",
   "mimetype": "text/x-python",
   "name": "python",
   "nbconvert_exporter": "python",
   "pygments_lexer": "ipython3",
   "version": "3.8.5"
  }
 },
 "nbformat": 4,
 "nbformat_minor": 5
}
